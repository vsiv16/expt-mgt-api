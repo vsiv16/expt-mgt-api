{
 "cells": [
  {
   "cell_type": "code",
   "execution_count": 1,
   "metadata": {},
   "outputs": [],
   "source": [
    "from param_combos_test import parameter_combinations\n",
    "from param_combos_test import parameter_lists\n",
    "from param_combos_test import parameter_combinations_generalized\n",
    "from param_combos_test import param_combos_gen_names\n",
    "from param_combos_test import param_no_combos_gen_names"
   ]
  },
  {
   "cell_type": "code",
   "execution_count": 2,
   "metadata": {},
   "outputs": [
    {
     "name": "stdout",
     "output_type": "stream",
     "text": [
      "PARAMS:  {'p1': [1, 2, 3], 'p2': [1, 2], 'p3': [1, 2, 3, 4]}\n",
      "*PARAMS:  p1 p2 p3\n",
      "PARAMS KEYS:  ['p1', 'p2', 'p3']\n",
      "VALS_LIST:  [[1, 2, 3], [1, 2], [1, 2, 3, 4]]\n",
      "3\n",
      "4\n",
      "5\n",
      "6\n",
      "4\n",
      "5\n",
      "6\n",
      "7\n",
      "4\n",
      "5\n",
      "6\n",
      "7\n",
      "5\n",
      "6\n",
      "7\n",
      "8\n",
      "5\n",
      "6\n",
      "7\n",
      "8\n",
      "6\n",
      "7\n",
      "8\n",
      "9\n"
     ]
    }
   ],
   "source": [
    "p1_list = [1, 2, 3]\n",
    "p2_list = [1, 2]\n",
    "p3_list = [1, 2, 3, 4]\n",
    "\n",
    "@param_combos_gen_names(p1=p1_list, p2=p2_list, p3=p3_list)\n",
    "def my_function(p1, p2, p3):\n",
    "    # print(f\"param1: {param1}, param2: {param2}, param3: {param3}\")\n",
    "    print(p1 + p2 + p3)\n",
    "\n",
    "my_function()"
   ]
  },
  {
   "cell_type": "code",
   "execution_count": 2,
   "metadata": {},
   "outputs": [
    {
     "name": "stdout",
     "output_type": "stream",
     "text": [
      "PARAMS:  {'p1': [1, 2, 3], 'p2': [1, 2], 'p3': [1, 2, 3, 4]}\n",
      "*PARAMS:  p1 p2 p3\n",
      "KEY:  p1\n",
      "VALUE:  [1, 2, 3]\n",
      "KEY:  p2\n",
      "VALUE:  [1, 2]\n",
      "KEY:  p3\n",
      "VALUE:  [1, 2, 3, 4]\n",
      "[1, 2, 3, 1, 2, 1, 2, 3, 4]\n"
     ]
    }
   ],
   "source": [
    "p1_list = [1, 2, 3]\n",
    "p2_list = [1, 2]\n",
    "p3_list = [1, 2, 3, 4]\n",
    "\n",
    "@param_no_combos_gen_names(p1=p1_list, p2=p2_list, p3=p3_list)\n",
    "def my_function(p1, p2, p3):\n",
    "    print(p1 + p2 + p3)\n",
    "\n",
    "my_function()"
   ]
  },
  {
   "cell_type": "code",
   "execution_count": 4,
   "metadata": {},
   "outputs": [],
   "source": [
    "# @parameter_combinations\n",
    "# def my_function(param1, param2, param3):\n",
    "#     # print(f\"param1: {param1}, param2: {param2}, param3: {param3}\")\n",
    "#     print(param1 + param2 + param3)\n",
    "\n",
    "# my_function()\n"
   ]
  },
  {
   "cell_type": "code",
   "execution_count": 3,
   "metadata": {},
   "outputs": [
    {
     "name": "stdout",
     "output_type": "stream",
     "text": [
      "3\n",
      "4\n",
      "5\n",
      "6\n",
      "4\n",
      "5\n",
      "6\n",
      "7\n",
      "4\n",
      "5\n",
      "6\n",
      "7\n",
      "5\n",
      "6\n",
      "7\n",
      "8\n",
      "5\n",
      "6\n",
      "7\n",
      "8\n",
      "6\n",
      "7\n",
      "8\n",
      "9\n"
     ]
    }
   ],
   "source": [
    "p1_list = [1, 2, 3]\n",
    "p2_list = [1, 2]\n",
    "p3_list = [1, 2, 3, 4]\n",
    "\n",
    "@parameter_lists(p1_list, p2_list, p3_list)\n",
    "def my_function(param1, param2, param3):\n",
    "    # print(f\"param1: {param1}, param2: {param2}, param3: {param3}\")\n",
    "    print(param1 + param2 + param3)\n",
    "\n",
    "my_function()\n"
   ]
  },
  {
   "cell_type": "code",
   "execution_count": 6,
   "metadata": {},
   "outputs": [
    {
     "ename": "TypeError",
     "evalue": "parameter_combinations_generalized() got an unexpected keyword argument 'param1'",
     "output_type": "error",
     "traceback": [
      "\u001b[0;31m---------------------------------------------------------------------------\u001b[0m",
      "\u001b[0;31mTypeError\u001b[0m                                 Traceback (most recent call last)",
      "\u001b[0;32m/var/folders/m8/y79ml1gd3ln69m2q3s4wsrv00000gn/T/ipykernel_30313/3639210519.py\u001b[0m in \u001b[0;36m<cell line: 6>\u001b[0;34m()\u001b[0m\n\u001b[1;32m      4\u001b[0m \u001b[0;34m\u001b[0m\u001b[0m\n\u001b[1;32m      5\u001b[0m \u001b[0;31m# @parameter_combinations_generalized(p1=p1_list, p2=p2_list, p3=p3_list)\u001b[0m\u001b[0;34m\u001b[0m\u001b[0;34m\u001b[0m\u001b[0m\n\u001b[0;32m----> 6\u001b[0;31m \u001b[0;34m@\u001b[0m\u001b[0mparameter_combinations_generalized\u001b[0m\u001b[0;34m(\u001b[0m\u001b[0mparam1\u001b[0m\u001b[0;34m=\u001b[0m\u001b[0mp1_list\u001b[0m\u001b[0;34m,\u001b[0m \u001b[0mparam2\u001b[0m\u001b[0;34m=\u001b[0m\u001b[0mp2_list\u001b[0m\u001b[0;34m,\u001b[0m \u001b[0mparam3\u001b[0m\u001b[0;34m=\u001b[0m\u001b[0mp3_list\u001b[0m\u001b[0;34m)\u001b[0m\u001b[0;34m\u001b[0m\u001b[0;34m\u001b[0m\u001b[0m\n\u001b[0m\u001b[1;32m      7\u001b[0m \u001b[0;32mdef\u001b[0m \u001b[0mmy_function\u001b[0m\u001b[0;34m(\u001b[0m\u001b[0mparam1\u001b[0m\u001b[0;34m,\u001b[0m \u001b[0mparam2\u001b[0m\u001b[0;34m,\u001b[0m \u001b[0mparam3\u001b[0m\u001b[0;34m)\u001b[0m\u001b[0;34m:\u001b[0m\u001b[0;34m\u001b[0m\u001b[0;34m\u001b[0m\u001b[0m\n\u001b[1;32m      8\u001b[0m     \u001b[0;31m# print(f\"param1: {param1}, param2: {param2}, param3: {param3}\")\u001b[0m\u001b[0;34m\u001b[0m\u001b[0;34m\u001b[0m\u001b[0m\n",
      "\u001b[0;31mTypeError\u001b[0m: parameter_combinations_generalized() got an unexpected keyword argument 'param1'"
     ]
    }
   ],
   "source": [
    "p1_list = [1, 2, 3]\n",
    "p2_list = [1, 2]\n",
    "p3_list = [1, 2, 3, 4]\n",
    "\n",
    "# @parameter_combinations_generalized(p1=p1_list, p2=p2_list, p3=p3_list)\n",
    "@parameter_combinations_generalized(param1=p1_list, param2=p2_list, param3=p3_list)\n",
    "def my_function(param1, param2, param3):\n",
    "    # print(f\"param1: {param1}, param2: {param2}, param3: {param3}\")\n",
    "    print(param1 + param2 + param3)\n",
    "\n",
    "my_function()"
   ]
  }
 ],
 "metadata": {
  "kernelspec": {
   "display_name": "Python 3",
   "language": "python",
   "name": "python3"
  },
  "language_info": {
   "codemirror_mode": {
    "name": "ipython",
    "version": 3
   },
   "file_extension": ".py",
   "mimetype": "text/x-python",
   "name": "python",
   "nbconvert_exporter": "python",
   "pygments_lexer": "ipython3",
   "version": "3.9.16"
  },
  "orig_nbformat": 4
 },
 "nbformat": 4,
 "nbformat_minor": 2
}
