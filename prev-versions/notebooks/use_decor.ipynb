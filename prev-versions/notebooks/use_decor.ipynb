{
 "cells": [
  {
   "cell_type": "code",
   "execution_count": 19,
   "metadata": {},
   "outputs": [],
   "source": [
    "from experimentmgt import experiment_entry"
   ]
  },
  {
   "cell_type": "code",
   "execution_count": 20,
   "metadata": {},
   "outputs": [],
   "source": [
    "# define parameters\n",
    "p1 = [1, 2, 3]\n",
    "p2 = [4, 5, 6]\n",
    "# every_combination = False"
   ]
  },
  {
   "cell_type": "code",
   "execution_count": 23,
   "metadata": {},
   "outputs": [
    {
     "name": "stdout",
     "output_type": "stream",
     "text": [
      "Inside the function.\n",
      "Inside the function.\n",
      "Inside the function.\n",
      "<pandas.io.formats.style.Styler object at 0x123f94640>\n"
     ]
    },
    {
     "data": {
      "text/html": [
       "<style type=\"text/css\">\n",
       "</style>\n",
       "<table id=\"T_49a91\">\n",
       "  <thead>\n",
       "    <tr>\n",
       "      <th class=\"blank level0\" >&nbsp;</th>\n",
       "      <th id=\"T_49a91_level0_col0\" class=\"col_heading level0 col0\" >p1</th>\n",
       "      <th id=\"T_49a91_level0_col1\" class=\"col_heading level0 col1\" >p2</th>\n",
       "      <th id=\"T_49a91_level0_col2\" class=\"col_heading level0 col2\" >Model Output</th>\n",
       "    </tr>\n",
       "  </thead>\n",
       "  <tbody>\n",
       "    <tr>\n",
       "      <th id=\"T_49a91_level0_row0\" class=\"row_heading level0 row0\" >Experiment 1:</th>\n",
       "      <td id=\"T_49a91_row0_col0\" class=\"data row0 col0\" >1.000000</td>\n",
       "      <td id=\"T_49a91_row0_col1\" class=\"data row0 col1\" >4.000000</td>\n",
       "      <td id=\"T_49a91_row0_col2\" class=\"data row0 col2\" ><span style=\"background-color: yellow\">nan</span></td>\n",
       "    </tr>\n",
       "    <tr>\n",
       "      <th id=\"T_49a91_level0_row1\" class=\"row_heading level0 row1\" >Experiment 2:</th>\n",
       "      <td id=\"T_49a91_row1_col0\" class=\"data row1 col0\" >2.000000</td>\n",
       "      <td id=\"T_49a91_row1_col1\" class=\"data row1 col1\" >5.000000</td>\n",
       "      <td id=\"T_49a91_row1_col2\" class=\"data row1 col2\" ><span style=\"background-color: yellow\">nan</span></td>\n",
       "    </tr>\n",
       "    <tr>\n",
       "      <th id=\"T_49a91_level0_row2\" class=\"row_heading level0 row2\" >Experiment 3:</th>\n",
       "      <td id=\"T_49a91_row2_col0\" class=\"data row2 col0\" >3.000000</td>\n",
       "      <td id=\"T_49a91_row2_col1\" class=\"data row2 col1\" >6.000000</td>\n",
       "      <td id=\"T_49a91_row2_col2\" class=\"data row2 col2\" ><span style=\"background-color: yellow\">nan</span></td>\n",
       "    </tr>\n",
       "  </tbody>\n",
       "</table>\n"
      ],
      "text/plain": [
       "<pandas.io.formats.style.Styler at 0x123f94640>"
      ]
     },
     "execution_count": 23,
     "metadata": {},
     "output_type": "execute_result"
    }
   ],
   "source": [
    "# define experiment entry function\n",
    "@experiment_entry(p1=p1, p2=p2)\n",
    "def model(p1=p1, p2=p2):\n",
    "    print(\"Inside the function.\")\n",
    "\n",
    "model(p1=p1, p2=p2)"
   ]
  },
  {
   "cell_type": "code",
   "execution_count": null,
   "metadata": {},
   "outputs": [],
   "source": [
    "@experiment_entry(params=)"
   ]
  }
 ],
 "metadata": {
  "kernelspec": {
   "display_name": "Python 3",
   "language": "python",
   "name": "python3"
  },
  "language_info": {
   "codemirror_mode": {
    "name": "ipython",
    "version": 3
   },
   "file_extension": ".py",
   "mimetype": "text/x-python",
   "name": "python",
   "nbconvert_exporter": "python",
   "pygments_lexer": "ipython3",
   "version": "3.9.16"
  },
  "orig_nbformat": 4
 },
 "nbformat": 4,
 "nbformat_minor": 2
}
