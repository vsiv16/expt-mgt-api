{
 "cells": [
  {
   "cell_type": "code",
   "execution_count": null,
   "id": "6ef7970e",
   "metadata": {},
   "outputs": [],
   "source": [
    "import pandas as pd\n",
    "import itertools\n",
    "import old_stuff.exptmgt as exptmgt"
   ]
  },
  {
   "cell_type": "code",
   "execution_count": 2,
   "id": "216afb94",
   "metadata": {},
   "outputs": [
    {
     "name": "stdout",
     "output_type": "stream",
     "text": [
      "Help on module exptmgt:\n",
      "\n",
      "NAME\n",
      "    exptmgt\n",
      "\n",
      "CLASSES\n",
      "    builtins.object\n",
      "        ExperimentManager\n",
      "    \n",
      "    class ExperimentManager(builtins.object)\n",
      "     |  ExperimentManager(model, params, param_names, every_combination=False)\n",
      "     |  \n",
      "     |  Methods defined here:\n",
      "     |  \n",
      "     |  __init__(self, model, params, param_names, every_combination=False)\n",
      "     |      Initialize self.  See help(type(self)) for accurate signature.\n",
      "     |  \n",
      "     |  run_experiment(self)\n",
      "     |      Runs experiment. <todo: update this docstring>\n",
      "     |  \n",
      "     |  ----------------------------------------------------------------------\n",
      "     |  Data descriptors defined here:\n",
      "     |  \n",
      "     |  __dict__\n",
      "     |      dictionary for instance variables (if defined)\n",
      "     |  \n",
      "     |  __weakref__\n",
      "     |      list of weak references to the object (if defined)\n",
      "\n",
      "FILE\n",
      "    /Users/sivani/Desktop/expt-mgt-api/exptmgt.py\n",
      "\n",
      "\n"
     ]
    }
   ],
   "source": [
    "help(exptmgt) # todo: update docstrings"
   ]
  },
  {
   "cell_type": "code",
   "execution_count": 2,
   "id": "81b6e0e4",
   "metadata": {},
   "outputs": [],
   "source": [
    "# parameters to try out for model and to track the outputs for \n",
    "p1 = [1, 2, 3] # different values you want to try for p1\n",
    "p2 = [4, 5, 6] # diffrent values you want to try for p2 \n",
    "every_combination = False # if set to true will try out every combination of p1 with p2\n",
    "\n",
    "params = [p1, p2]\n",
    "param_names = [\"p1\", \"p2\"]\n",
    "\n",
    "def model(params):\n",
    "    temp_output = 0 \n",
    "    for p in params:\n",
    "        temp_output += p\n",
    "    return temp_output\n",
    "\n",
    "# ************ #\n",
    "expt_mgr = exptmgt.ExperimentManager(model, params, param_names, every_combination)"
   ]
  },
  {
   "cell_type": "code",
   "execution_count": 3,
   "id": "d05d2a23",
   "metadata": {},
   "outputs": [
    {
     "data": {
      "text/html": [
       "<style type=\"text/css\">\n",
       "</style>\n",
       "<table id=\"T_648e6\">\n",
       "  <thead>\n",
       "    <tr>\n",
       "      <th class=\"blank level0\" >&nbsp;</th>\n",
       "      <th id=\"T_648e6_level0_col0\" class=\"col_heading level0 col0\" >p1</th>\n",
       "      <th id=\"T_648e6_level0_col1\" class=\"col_heading level0 col1\" >p2</th>\n",
       "      <th id=\"T_648e6_level0_col2\" class=\"col_heading level0 col2\" >Model Output</th>\n",
       "    </tr>\n",
       "  </thead>\n",
       "  <tbody>\n",
       "    <tr>\n",
       "      <th id=\"T_648e6_level0_row0\" class=\"row_heading level0 row0\" >Experiment 1:</th>\n",
       "      <td id=\"T_648e6_row0_col0\" class=\"data row0 col0\" >1</td>\n",
       "      <td id=\"T_648e6_row0_col1\" class=\"data row0 col1\" >4</td>\n",
       "      <td id=\"T_648e6_row0_col2\" class=\"data row0 col2\" ><span style=\"background-color: yellow\">5</span></td>\n",
       "    </tr>\n",
       "    <tr>\n",
       "      <th id=\"T_648e6_level0_row1\" class=\"row_heading level0 row1\" >Experiment 2:</th>\n",
       "      <td id=\"T_648e6_row1_col0\" class=\"data row1 col0\" >2</td>\n",
       "      <td id=\"T_648e6_row1_col1\" class=\"data row1 col1\" >5</td>\n",
       "      <td id=\"T_648e6_row1_col2\" class=\"data row1 col2\" ><span style=\"background-color: yellow\">7</span></td>\n",
       "    </tr>\n",
       "    <tr>\n",
       "      <th id=\"T_648e6_level0_row2\" class=\"row_heading level0 row2\" >Experiment 3:</th>\n",
       "      <td id=\"T_648e6_row2_col0\" class=\"data row2 col0\" >3</td>\n",
       "      <td id=\"T_648e6_row2_col1\" class=\"data row2 col1\" >6</td>\n",
       "      <td id=\"T_648e6_row2_col2\" class=\"data row2 col2\" ><span style=\"background-color: yellow\">9</span></td>\n",
       "    </tr>\n",
       "  </tbody>\n",
       "</table>\n"
      ],
      "text/plain": [
       "<pandas.io.formats.style.Styler at 0x126dc8340>"
      ]
     },
     "execution_count": 3,
     "metadata": {},
     "output_type": "execute_result"
    }
   ],
   "source": [
    "expt_mgr.run_experiment()"
   ]
  }
 ],
 "metadata": {
  "kernelspec": {
   "display_name": "Python 3 (ipykernel)",
   "language": "python",
   "name": "python3"
  },
  "language_info": {
   "codemirror_mode": {
    "name": "ipython",
    "version": 3
   },
   "file_extension": ".py",
   "mimetype": "text/x-python",
   "name": "python",
   "nbconvert_exporter": "python",
   "pygments_lexer": "ipython3",
   "version": "3.9.16"
  }
 },
 "nbformat": 4,
 "nbformat_minor": 5
}
