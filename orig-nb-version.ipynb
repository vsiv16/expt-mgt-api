{
 "cells": [
  {
   "cell_type": "code",
   "execution_count": null,
   "id": "176da538",
   "metadata": {},
   "outputs": [],
   "source": [
    "!pip install jupyter_contrib_nbextensions"
   ]
  },
  {
   "cell_type": "code",
   "execution_count": 2,
   "id": "c153bd46",
   "metadata": {},
   "outputs": [
    {
     "name": "stdout",
     "output_type": "stream",
     "text": [
      "Collecting varname\n",
      "  Downloading varname-0.11.0-py3-none-any.whl (23 kB)\n",
      "Requirement already satisfied: executing<2.0,>=1.2 in /opt/conda/lib/python3.9/site-packages (from varname) (1.2.0)\n",
      "Installing collected packages: varname\n",
      "Successfully installed varname-0.11.0\n"
     ]
    }
   ],
   "source": [
    "!pip3 install varname"
   ]
  },
  {
   "cell_type": "code",
   "execution_count": 16,
   "id": "6ef7970e",
   "metadata": {},
   "outputs": [],
   "source": [
    "import pandas as pd\n",
    "import itertools"
   ]
  },
  {
   "cell_type": "code",
   "execution_count": null,
   "id": "382434e5",
   "metadata": {},
   "outputs": [],
   "source": [
    "#------Template--------#\n",
    "\n",
    "p1_options = [...] #set of values you want to try out for parameter p1\n",
    "p2_options = [...] #set of values you want to try out for parameter p2\n",
    "... #can add as many parameters as desired\n",
    "\n",
    "every_combo = False #if set to True will try out every combination of parameters\n",
    "\n",
    "params = [p1_options, p2_options, ...] #list of all parameters you want to track\n",
    "\n",
    "def model(p1, p2, ...):\n",
    "    ... #your code here\n",
    "    return output"
   ]
  },
  {
   "cell_type": "code",
   "execution_count": null,
   "id": "b7c6245f",
   "metadata": {},
   "outputs": [],
   "source": [
    "#------Example--------#\n",
    "\n",
    "#parameters to try out for model and to track the outputs for \n",
    "p1 = [1, 2, 3] #different values you want to try for p1\n",
    "p2 = [4, 5, 6] #diffrent values you want to try for p2 \n",
    "every_combination = False #if set to true will try out every combination of p1 with p2\n",
    "\n",
    "params = [p1, p2]\n",
    "param_names = [\"p1\", \"p2\"]\n",
    "\n",
    "def model(params):\n",
    "    temp_output = 0 \n",
    "    for p in params:\n",
    "        temp_output += p\n",
    "    return temp_output"
   ]
  },
  {
   "cell_type": "code",
   "execution_count": 20,
   "id": "a9e358fc",
   "metadata": {},
   "outputs": [],
   "source": [
    "#parameters to try out for model and to track the outputs for \n",
    "p1 = [1, 2, 3] #different values you want to try for p1\n",
    "p2 = [4, 5, 6] #diffrent values you want to try for p2 \n",
    "every_combination = False #if set to true will try out every combination of p1 with p2\n",
    "\n",
    "params = [p1, p2]\n",
    "param_names = [\"p1\", \"p2\"]\n",
    "\n",
    "def model(params):\n",
    "    temp_output = 0 \n",
    "    for p in params:\n",
    "        temp_output += p\n",
    "    return temp_output"
   ]
  },
  {
   "cell_type": "code",
   "execution_count": 92,
   "id": "c1a58fc0",
   "metadata": {},
   "outputs": [
    {
     "name": "stdout",
     "output_type": "stream",
     "text": [
      "[(1, 4), (1, 5), (1, 6), (2, 4), (2, 5), (2, 6), (3, 4), (3, 5), (3, 6)]\n"
     ]
    },
    {
     "data": {
      "text/html": [
       "<style type=\"text/css\">\n",
       "</style>\n",
       "<table id=\"T_f9740_\">\n",
       "  <thead>\n",
       "    <tr>\n",
       "      <th class=\"blank level0\" >&nbsp;</th>\n",
       "      <th class=\"col_heading level0 col0\" >p1</th>\n",
       "      <th class=\"col_heading level0 col1\" >p2</th>\n",
       "      <th class=\"col_heading level0 col2\" >Model Output</th>\n",
       "    </tr>\n",
       "  </thead>\n",
       "  <tbody>\n",
       "    <tr>\n",
       "      <th id=\"T_f9740_level0_row0\" class=\"row_heading level0 row0\" >Experiment 1:</th>\n",
       "      <td id=\"T_f9740_row0_col0\" class=\"data row0 col0\" >1</td>\n",
       "      <td id=\"T_f9740_row0_col1\" class=\"data row0 col1\" >4</td>\n",
       "      <td id=\"T_f9740_row0_col2\" class=\"data row0 col2\" ><span style=\"background-color: yellow\">5</span></td>\n",
       "    </tr>\n",
       "    <tr>\n",
       "      <th id=\"T_f9740_level0_row1\" class=\"row_heading level0 row1\" >Experiment 2:</th>\n",
       "      <td id=\"T_f9740_row1_col0\" class=\"data row1 col0\" >2</td>\n",
       "      <td id=\"T_f9740_row1_col1\" class=\"data row1 col1\" >5</td>\n",
       "      <td id=\"T_f9740_row1_col2\" class=\"data row1 col2\" ><span style=\"background-color: yellow\">7</span></td>\n",
       "    </tr>\n",
       "    <tr>\n",
       "      <th id=\"T_f9740_level0_row2\" class=\"row_heading level0 row2\" >Experiment 3:</th>\n",
       "      <td id=\"T_f9740_row2_col0\" class=\"data row2 col0\" >3</td>\n",
       "      <td id=\"T_f9740_row2_col1\" class=\"data row2 col1\" >6</td>\n",
       "      <td id=\"T_f9740_row2_col2\" class=\"data row2 col2\" ><span style=\"background-color: yellow\">9</span></td>\n",
       "    </tr>\n",
       "  </tbody>\n",
       "</table>\n"
      ],
      "text/plain": [
       "<pandas.io.formats.style.Styler at 0x7f778c201490>"
      ]
     },
     "execution_count": 92,
     "metadata": {},
     "output_type": "execute_result"
    }
   ],
   "source": [
    "def abstraction(model, params, param_names, every_combo): \n",
    "    if every_combination:\n",
    "        print(list(itertools.product(*params)))\n",
    "    column_names = param_names + [\"Model Output\"]\n",
    "    df = pd.DataFrame(columns=column_names)\n",
    "    for index in range(len(params[0])): \n",
    "        save_info = []\n",
    "        for p in params: \n",
    "            save_info.append(p[index])\n",
    "        save_info.append(model(save_info))\n",
    "        df.loc[len(df.index)] = save_info\n",
    "    df.index = [\"Experiment \" + str(i+1) + \":\" for i in range(len(df.index))]\n",
    "    styled_df = df.style.format({'Model Output': lambda x: f'<span style=\"background-color: yellow\">{x}</span>'})\n",
    "    return styled_df\n",
    "\n",
    "abstraction(model, params, param_names, every_combination)"
   ]
  }
 ],
 "metadata": {
  "kernelspec": {
   "display_name": "Python 3 (ipykernel)",
   "language": "python",
   "name": "python3"
  },
  "language_info": {
   "codemirror_mode": {
    "name": "ipython",
    "version": 3
   },
   "file_extension": ".py",
   "mimetype": "text/x-python",
   "name": "python",
   "nbconvert_exporter": "python",
   "pygments_lexer": "ipython3",
   "version": "3.9.15"
  }
 },
 "nbformat": 4,
 "nbformat_minor": 5
}
