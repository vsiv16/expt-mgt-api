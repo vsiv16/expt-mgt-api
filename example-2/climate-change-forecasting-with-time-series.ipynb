{
 "cells": [
  {
   "attachments": {},
   "cell_type": "markdown",
   "metadata": {},
   "source": [
    "### Introduction\n",
    "\n",
    "**Our goal is to develop a predictive model using ARIMA to forecast future temperature trends.**"
   ]
  },
  {
   "cell_type": "code",
   "execution_count": 1,
   "metadata": {
    "_cell_guid": "b1076dfc-b9ad-4769-8c92-a6c4dae69d19",
    "_uuid": "8f2839f25d086af736a60e9eeb907d3b93b6e0e5",
    "execution": {
     "iopub.execute_input": "2023-03-04T05:15:24.911019Z",
     "iopub.status.busy": "2023-03-04T05:15:24.910657Z",
     "iopub.status.idle": "2023-03-04T05:15:24.964689Z",
     "shell.execute_reply": "2023-03-04T05:15:24.963448Z",
     "shell.execute_reply.started": "2023-03-04T05:15:24.910982Z"
    }
   },
   "outputs": [],
   "source": [
    "import numpy as np\n",
    "import pandas as pd\n",
    "from statsmodels.tsa.arima_model import ARIMA"
   ]
  },
  {
   "cell_type": "code",
   "execution_count": 4,
   "metadata": {
    "execution": {
     "iopub.execute_input": "2023-03-04T05:15:24.966567Z",
     "iopub.status.busy": "2023-03-04T05:15:24.966185Z",
     "iopub.status.idle": "2023-03-04T05:15:31.978017Z",
     "shell.execute_reply": "2023-03-04T05:15:31.976631Z",
     "shell.execute_reply.started": "2023-03-04T05:15:24.966531Z"
    }
   },
   "outputs": [
    {
     "data": {
      "text/html": [
       "<div>\n",
       "<style scoped>\n",
       "    .dataframe tbody tr th:only-of-type {\n",
       "        vertical-align: middle;\n",
       "    }\n",
       "\n",
       "    .dataframe tbody tr th {\n",
       "        vertical-align: top;\n",
       "    }\n",
       "\n",
       "    .dataframe thead th {\n",
       "        text-align: right;\n",
       "    }\n",
       "</style>\n",
       "<table border=\"1\" class=\"dataframe\">\n",
       "  <thead>\n",
       "    <tr style=\"text-align: right;\">\n",
       "      <th></th>\n",
       "      <th>dt</th>\n",
       "      <th>AverageTemperature</th>\n",
       "      <th>AverageTemperatureUncertainty</th>\n",
       "      <th>City</th>\n",
       "      <th>Country</th>\n",
       "      <th>Latitude</th>\n",
       "      <th>Longitude</th>\n",
       "    </tr>\n",
       "  </thead>\n",
       "  <tbody>\n",
       "    <tr>\n",
       "      <th>0</th>\n",
       "      <td>1743-11-01</td>\n",
       "      <td>6.068</td>\n",
       "      <td>1.737</td>\n",
       "      <td>Århus</td>\n",
       "      <td>Denmark</td>\n",
       "      <td>57.05N</td>\n",
       "      <td>10.33E</td>\n",
       "    </tr>\n",
       "    <tr>\n",
       "      <th>1</th>\n",
       "      <td>1743-12-01</td>\n",
       "      <td>NaN</td>\n",
       "      <td>NaN</td>\n",
       "      <td>Århus</td>\n",
       "      <td>Denmark</td>\n",
       "      <td>57.05N</td>\n",
       "      <td>10.33E</td>\n",
       "    </tr>\n",
       "    <tr>\n",
       "      <th>2</th>\n",
       "      <td>1744-01-01</td>\n",
       "      <td>NaN</td>\n",
       "      <td>NaN</td>\n",
       "      <td>Århus</td>\n",
       "      <td>Denmark</td>\n",
       "      <td>57.05N</td>\n",
       "      <td>10.33E</td>\n",
       "    </tr>\n",
       "    <tr>\n",
       "      <th>3</th>\n",
       "      <td>1744-02-01</td>\n",
       "      <td>NaN</td>\n",
       "      <td>NaN</td>\n",
       "      <td>Århus</td>\n",
       "      <td>Denmark</td>\n",
       "      <td>57.05N</td>\n",
       "      <td>10.33E</td>\n",
       "    </tr>\n",
       "    <tr>\n",
       "      <th>4</th>\n",
       "      <td>1744-03-01</td>\n",
       "      <td>NaN</td>\n",
       "      <td>NaN</td>\n",
       "      <td>Århus</td>\n",
       "      <td>Denmark</td>\n",
       "      <td>57.05N</td>\n",
       "      <td>10.33E</td>\n",
       "    </tr>\n",
       "  </tbody>\n",
       "</table>\n",
       "</div>"
      ],
      "text/plain": [
       "           dt  AverageTemperature  AverageTemperatureUncertainty   City  \\\n",
       "0  1743-11-01               6.068                          1.737  Århus   \n",
       "1  1743-12-01                 NaN                            NaN  Århus   \n",
       "2  1744-01-01                 NaN                            NaN  Århus   \n",
       "3  1744-02-01                 NaN                            NaN  Århus   \n",
       "4  1744-03-01                 NaN                            NaN  Århus   \n",
       "\n",
       "   Country Latitude Longitude  \n",
       "0  Denmark   57.05N    10.33E  \n",
       "1  Denmark   57.05N    10.33E  \n",
       "2  Denmark   57.05N    10.33E  \n",
       "3  Denmark   57.05N    10.33E  \n",
       "4  Denmark   57.05N    10.33E  "
      ]
     },
     "execution_count": 4,
     "metadata": {},
     "output_type": "execute_result"
    }
   ],
   "source": [
    "df = pd.read_csv(\"GlobalLandTemperaturesByCity.csv\")\n",
    "df.head(5)"
   ]
  },
  {
   "attachments": {},
   "cell_type": "markdown",
   "metadata": {},
   "source": [
    "### Data Cleaning\n",
    "\n",
    "The dataset I am using contains temperature readings for Denmark over a period of time."
   ]
  },
  {
   "cell_type": "code",
   "execution_count": 5,
   "metadata": {
    "execution": {
     "iopub.execute_input": "2023-03-04T05:15:31.980254Z",
     "iopub.status.busy": "2023-03-04T05:15:31.979876Z",
     "iopub.status.idle": "2023-03-04T05:15:34.840523Z",
     "shell.execute_reply": "2023-03-04T05:15:34.839360Z",
     "shell.execute_reply.started": "2023-03-04T05:15:31.980216Z"
    }
   },
   "outputs": [
    {
     "data": {
      "text/html": [
       "<div>\n",
       "<style scoped>\n",
       "    .dataframe tbody tr th:only-of-type {\n",
       "        vertical-align: middle;\n",
       "    }\n",
       "\n",
       "    .dataframe tbody tr th {\n",
       "        vertical-align: top;\n",
       "    }\n",
       "\n",
       "    .dataframe thead th {\n",
       "        text-align: right;\n",
       "    }\n",
       "</style>\n",
       "<table border=\"1\" class=\"dataframe\">\n",
       "  <thead>\n",
       "    <tr style=\"text-align: right;\">\n",
       "      <th></th>\n",
       "      <th>dt</th>\n",
       "      <th>AverageTemperature</th>\n",
       "      <th>AverageTemperatureUncertainty</th>\n",
       "      <th>City</th>\n",
       "      <th>Country</th>\n",
       "      <th>Latitude</th>\n",
       "      <th>Longitude</th>\n",
       "    </tr>\n",
       "  </thead>\n",
       "  <tbody>\n",
       "    <tr>\n",
       "      <th>0</th>\n",
       "      <td>1743-11-01</td>\n",
       "      <td>6.068</td>\n",
       "      <td>1.737</td>\n",
       "      <td>Århus</td>\n",
       "      <td>Denmark</td>\n",
       "      <td>57.05N</td>\n",
       "      <td>10.33E</td>\n",
       "    </tr>\n",
       "    <tr>\n",
       "      <th>5</th>\n",
       "      <td>1744-04-01</td>\n",
       "      <td>5.788</td>\n",
       "      <td>3.624</td>\n",
       "      <td>Århus</td>\n",
       "      <td>Denmark</td>\n",
       "      <td>57.05N</td>\n",
       "      <td>10.33E</td>\n",
       "    </tr>\n",
       "    <tr>\n",
       "      <th>6</th>\n",
       "      <td>1744-05-01</td>\n",
       "      <td>10.644</td>\n",
       "      <td>1.283</td>\n",
       "      <td>Århus</td>\n",
       "      <td>Denmark</td>\n",
       "      <td>57.05N</td>\n",
       "      <td>10.33E</td>\n",
       "    </tr>\n",
       "    <tr>\n",
       "      <th>7</th>\n",
       "      <td>1744-06-01</td>\n",
       "      <td>14.051</td>\n",
       "      <td>1.347</td>\n",
       "      <td>Århus</td>\n",
       "      <td>Denmark</td>\n",
       "      <td>57.05N</td>\n",
       "      <td>10.33E</td>\n",
       "    </tr>\n",
       "    <tr>\n",
       "      <th>8</th>\n",
       "      <td>1744-07-01</td>\n",
       "      <td>16.082</td>\n",
       "      <td>1.396</td>\n",
       "      <td>Århus</td>\n",
       "      <td>Denmark</td>\n",
       "      <td>57.05N</td>\n",
       "      <td>10.33E</td>\n",
       "    </tr>\n",
       "  </tbody>\n",
       "</table>\n",
       "</div>"
      ],
      "text/plain": [
       "           dt  AverageTemperature  AverageTemperatureUncertainty   City  \\\n",
       "0  1743-11-01               6.068                          1.737  Århus   \n",
       "5  1744-04-01               5.788                          3.624  Århus   \n",
       "6  1744-05-01              10.644                          1.283  Århus   \n",
       "7  1744-06-01              14.051                          1.347  Århus   \n",
       "8  1744-07-01              16.082                          1.396  Århus   \n",
       "\n",
       "   Country Latitude Longitude  \n",
       "0  Denmark   57.05N    10.33E  \n",
       "5  Denmark   57.05N    10.33E  \n",
       "6  Denmark   57.05N    10.33E  \n",
       "7  Denmark   57.05N    10.33E  \n",
       "8  Denmark   57.05N    10.33E  "
      ]
     },
     "execution_count": 5,
     "metadata": {},
     "output_type": "execute_result"
    }
   ],
   "source": [
    "#remove null values\n",
    "df = df.dropna()\n",
    "df_denmark = df[df.Country == \"Denmark\"]\n",
    "df_denmark.index = pd.to_datetime(df_denmark.dt)\n",
    "df.head()"
   ]
  },
  {
   "cell_type": "code",
   "execution_count": 6,
   "metadata": {
    "execution": {
     "iopub.execute_input": "2023-03-04T05:15:34.844877Z",
     "iopub.status.busy": "2023-03-04T05:15:34.844538Z",
     "iopub.status.idle": "2023-03-04T05:15:34.863432Z",
     "shell.execute_reply": "2023-03-04T05:15:34.861735Z",
     "shell.execute_reply.started": "2023-03-04T05:15:34.844836Z"
    }
   },
   "outputs": [
    {
     "data": {
      "text/html": [
       "<div>\n",
       "<style scoped>\n",
       "    .dataframe tbody tr th:only-of-type {\n",
       "        vertical-align: middle;\n",
       "    }\n",
       "\n",
       "    .dataframe tbody tr th {\n",
       "        vertical-align: top;\n",
       "    }\n",
       "\n",
       "    .dataframe thead th {\n",
       "        text-align: right;\n",
       "    }\n",
       "</style>\n",
       "<table border=\"1\" class=\"dataframe\">\n",
       "  <thead>\n",
       "    <tr style=\"text-align: right;\">\n",
       "      <th></th>\n",
       "      <th>AverageTemperature</th>\n",
       "    </tr>\n",
       "  </thead>\n",
       "  <tbody>\n",
       "    <tr>\n",
       "      <th>count</th>\n",
       "      <td>12664.000000</td>\n",
       "    </tr>\n",
       "    <tr>\n",
       "      <th>mean</th>\n",
       "      <td>7.802640</td>\n",
       "    </tr>\n",
       "    <tr>\n",
       "      <th>std</th>\n",
       "      <td>6.648288</td>\n",
       "    </tr>\n",
       "    <tr>\n",
       "      <th>min</th>\n",
       "      <td>-7.816000</td>\n",
       "    </tr>\n",
       "    <tr>\n",
       "      <th>25%</th>\n",
       "      <td>2.084000</td>\n",
       "    </tr>\n",
       "    <tr>\n",
       "      <th>50%</th>\n",
       "      <td>7.200000</td>\n",
       "    </tr>\n",
       "    <tr>\n",
       "      <th>75%</th>\n",
       "      <td>14.190500</td>\n",
       "    </tr>\n",
       "    <tr>\n",
       "      <th>max</th>\n",
       "      <td>21.437000</td>\n",
       "    </tr>\n",
       "  </tbody>\n",
       "</table>\n",
       "</div>"
      ],
      "text/plain": [
       "       AverageTemperature\n",
       "count        12664.000000\n",
       "mean             7.802640\n",
       "std              6.648288\n",
       "min             -7.816000\n",
       "25%              2.084000\n",
       "50%              7.200000\n",
       "75%             14.190500\n",
       "max             21.437000"
      ]
     },
     "execution_count": 6,
     "metadata": {},
     "output_type": "execute_result"
    }
   ],
   "source": [
    "df_denmark = df_denmark.drop(['dt','AverageTemperatureUncertainty'],axis=1)\n",
    "df_denmark.describe()"
   ]
  },
  {
   "cell_type": "code",
   "execution_count": 7,
   "metadata": {
    "execution": {
     "iopub.execute_input": "2023-03-04T05:15:34.865733Z",
     "iopub.status.busy": "2023-03-04T05:15:34.865344Z",
     "iopub.status.idle": "2023-03-04T05:15:34.875253Z",
     "shell.execute_reply": "2023-03-04T05:15:34.874036Z",
     "shell.execute_reply.started": "2023-03-04T05:15:34.865697Z"
    }
   },
   "outputs": [
    {
     "data": {
      "text/plain": [
       "dt\n",
       "1743-11-01     6.068\n",
       "1744-04-01     5.788\n",
       "1744-05-01    10.644\n",
       "1744-06-01    14.051\n",
       "1744-07-01    16.082\n",
       "               ...  \n",
       "2013-04-01     6.026\n",
       "2013-05-01    12.774\n",
       "2013-06-01    15.685\n",
       "2013-07-01    18.735\n",
       "2013-08-01    18.067\n",
       "Name: AverageTemperature, Length: 12664, dtype: float64"
      ]
     },
     "execution_count": 7,
     "metadata": {},
     "output_type": "execute_result"
    }
   ],
   "source": [
    "ts = df_denmark[\"AverageTemperature\"]\n",
    "ts"
   ]
  },
  {
   "attachments": {},
   "cell_type": "markdown",
   "metadata": {},
   "source": [
    "#### Visualise the data"
   ]
  },
  {
   "cell_type": "code",
   "execution_count": 8,
   "metadata": {
    "execution": {
     "iopub.execute_input": "2023-03-04T05:15:34.877700Z",
     "iopub.status.busy": "2023-03-04T05:15:34.876904Z",
     "iopub.status.idle": "2023-03-04T05:15:35.624049Z",
     "shell.execute_reply": "2023-03-04T05:15:35.623003Z",
     "shell.execute_reply.started": "2023-03-04T05:15:34.877664Z"
    }
   },
   "outputs": [
    {
     "data": {
      "text/plain": [
       "[<matplotlib.lines.Line2D at 0x7fe6600e4dc0>]"
      ]
     },
     "execution_count": 8,
     "metadata": {},
     "output_type": "execute_result"
    },
    {
     "data": {
      "image/png": "[encoded data removed]",
      "text/plain": [
       "<Figure size 1440x720 with 1 Axes>"
      ]
     },
     "metadata": {
      "needs_background": "light"
     },
     "output_type": "display_data"
    }
   ],
   "source": [
    "import matplotlib.pyplot as plt\n",
    "\n",
    "plt.figure(figsize=(20,10))\n",
    "fig = plt.figure(1)\n",
    "ax1 = fig.add_subplot(111) # 111: no of rows, cols, index\n",
    "ax1.set_xlabel(\"date\")\n",
    "ax1.set_ylabel(\"average temperature\")\n",
    "ax1.plot(ts)"
   ]
  },
  {
   "attachments": {},
   "cell_type": "markdown",
   "metadata": {},
   "source": [
    "### The ADF (Augmented Dickey-Fuller) test for stationarity\n",
    "\n",
    "The null hypothesis of the test is that the time series data is non-stationary.\n",
    "If p-value < 5%, we reject the null hypothesis"
   ]
  },
  {
   "attachments": {},
   "cell_type": "markdown",
   "metadata": {},
   "source": [
    "**As we can see in the visualisation, we cannot identify a trend or seasonal component. Our next step is to check if data is stationary.**\n",
    "\n",
    "#### Stationarity:\n",
    "1. Mean is constant\n",
    "2. Standard deviation is constant\n",
    "3. No seasonality (ie. No predictable, periodic behavior over time)\n",
    "\n",
    "#### White noise\n",
    "1. Mean is 0\n",
    "2. Standard deviation is constant\n",
    "3. No seasonality \n",
    "\n",
    "### How to check for stationarity?\n",
    "1. Visually\n",
    "2. Global vs local tests \n",
    "3. ADF test\n",
    "\n",
    "\n",
    "### Making a TS stationary\n",
    "suppose y<sub>t</sub> = B<sub>o</sub> + B<sub>1</sub>t + e<sub>t</sub>\n",
    "(e: error/white noise)\n",
    "\n",
    "create Z<sub>t</sub> = Y<sub>t</sub> - Y<sub>t-1</sub>\n",
    "                     = B<sub>1</sub> + (e<sub>t</sub>-e<sub>t-1</sub>)\n",
    "                     \n",
    "E(Z<sub>t</sub>)  = B<sub>1</sub> ie. constant\n",
    "V(Z<sub>t</sub>)  = K<sup>2</sup> ie. constant\n",
    "                     "
   ]
  },
  {
   "cell_type": "code",
   "execution_count": 9,
   "metadata": {
    "execution": {
     "iopub.execute_input": "2023-03-04T05:15:35.625588Z",
     "iopub.status.busy": "2023-03-04T05:15:35.625157Z",
     "iopub.status.idle": "2023-03-04T05:15:36.860460Z",
     "shell.execute_reply": "2023-03-04T05:15:36.859284Z",
     "shell.execute_reply.started": "2023-03-04T05:15:35.625548Z"
    }
   },
   "outputs": [
    {
     "name": "stdout",
     "output_type": "stream",
     "text": [
      "ADF Statistic:-14.764430391800603\n",
      "p-value:2.3746970456360347e-27\n",
      "Critical Value:\n",
      "1%-3.430868192869495\n",
      "Critical Value:\n",
      "5%-2.86176901566292\n",
      "Critical Value:\n",
      "10%-2.566891900059256\n"
     ]
    }
   ],
   "source": [
    "\n",
    "from statsmodels.tsa.stattools import adfuller\n",
    "adf_result = adfuller(ts, autolag='AIC')\n",
    "print(f'ADF Statistic:{adf_result[0]}')\n",
    "print(f'p-value:{adf_result[1]}')\n",
    "\n",
    "for percentage,value in adf_result[4].items():\n",
    "    print(\"Critical Value:\")\n",
    "    print(f'{percentage}{value}')"
   ]
  },
  {
   "attachments": {},
   "cell_type": "markdown",
   "metadata": {},
   "source": [
    "**Since p-value is much smaller than 5% , we reject the null hypothesis. Hence, time series data is stationary**"
   ]
  },
  {
   "attachments": {},
   "cell_type": "markdown",
   "metadata": {},
   "source": [
    "### Autoregressive Moving Average (ARMA) Model"
   ]
  },
  {
   "cell_type": "code",
   "execution_count": 10,
   "metadata": {
    "_kg_hide-output": true,
    "execution": {
     "iopub.execute_input": "2023-03-04T05:15:36.863199Z",
     "iopub.status.busy": "2023-03-04T05:15:36.862456Z",
     "iopub.status.idle": "2023-03-04T05:15:39.374720Z",
     "shell.execute_reply": "2023-03-04T05:15:39.373014Z",
     "shell.execute_reply.started": "2023-03-04T05:15:36.863137Z"
    }
   },
   "outputs": [
    {
     "name": "stderr",
     "output_type": "stream",
     "text": [
      "/Users/sivani/opt/anaconda3/lib/python3.9/site-packages/statsmodels/tsa/base/tsa_model.py:471: ValueWarning: A date index has been provided, but it has no associated frequency information and so will be ignored when e.g. forecasting.\n",
      "  self._init_dates(dates, freq)\n",
      "/Users/sivani/opt/anaconda3/lib/python3.9/site-packages/statsmodels/tsa/base/tsa_model.py:471: ValueWarning: A date index has been provided, but it is not monotonic and so will be ignored when e.g. forecasting.\n",
      "  self._init_dates(dates, freq)\n",
      "/Users/sivani/opt/anaconda3/lib/python3.9/site-packages/statsmodels/tsa/base/tsa_model.py:471: ValueWarning: A date index has been provided, but it has no associated frequency information and so will be ignored when e.g. forecasting.\n",
      "  self._init_dates(dates, freq)\n",
      "/Users/sivani/opt/anaconda3/lib/python3.9/site-packages/statsmodels/tsa/base/tsa_model.py:471: ValueWarning: A date index has been provided, but it is not monotonic and so will be ignored when e.g. forecasting.\n",
      "  self._init_dates(dates, freq)\n",
      "/Users/sivani/opt/anaconda3/lib/python3.9/site-packages/statsmodels/tsa/base/tsa_model.py:471: ValueWarning: A date index has been provided, but it has no associated frequency information and so will be ignored when e.g. forecasting.\n",
      "  self._init_dates(dates, freq)\n",
      "/Users/sivani/opt/anaconda3/lib/python3.9/site-packages/statsmodels/tsa/base/tsa_model.py:471: ValueWarning: A date index has been provided, but it is not monotonic and so will be ignored when e.g. forecasting.\n",
      "  self._init_dates(dates, freq)\n"
     ]
    }
   ],
   "source": [
    "from statsmodels.tsa.arima.model import ARIMA\n",
    "\n",
    "newmodel = ARIMA(ts, order =(1,0,1)) \n",
    "#order: (p,d,q) = autoregressive (p), differencing (d), moving average (q) \n",
    "\n",
    "results = newmodel.fit()\n",
    "predictions = results.predict(start = '01/01/1990',end = '01/01/1991')"
   ]
  },
  {
   "attachments": {},
   "cell_type": "markdown",
   "metadata": {},
   "source": [
    "### Model Evaluation"
   ]
  },
  {
   "cell_type": "code",
   "execution_count": 11,
   "metadata": {
    "execution": {
     "iopub.execute_input": "2023-03-04T05:15:39.377694Z",
     "iopub.status.busy": "2023-03-04T05:15:39.376891Z",
     "iopub.status.idle": "2023-03-04T05:15:39.388013Z",
     "shell.execute_reply": "2023-03-04T05:15:39.386276Z",
     "shell.execute_reply.started": "2023-03-04T05:15:39.377652Z"
    }
   },
   "outputs": [],
   "source": [
    "#to check accuracy of our ARIMA model, keeping actual values aside\n",
    "\n",
    "actuals = df_denmark['01/01/1990':'01/01/1991']['AverageTemperature'][0:13]"
   ]
  },
  {
   "cell_type": "code",
   "execution_count": 10,
   "metadata": {
    "execution": {
     "iopub.execute_input": "2023-03-04T05:15:39.391158Z",
     "iopub.status.busy": "2023-03-04T05:15:39.390317Z",
     "iopub.status.idle": "2023-03-04T05:15:39.479487Z",
     "shell.execute_reply": "2023-03-04T05:15:39.478284Z",
     "shell.execute_reply.started": "2023-03-04T05:15:39.391120Z"
    }
   },
   "outputs": [
    {
     "name": "stdout",
     "output_type": "stream",
     "text": [
      "MAE:1.8128749894733902\n"
     ]
    }
   ],
   "source": [
    "# Mean Absolute error: calculates the avg absolute diff between prediction and actuals\n",
    "\n",
    "from sklearn.metrics import mean_absolute_error\n",
    "mae = mean_absolute_error(actuals[0:13],predictions)\n",
    "print(f'MAE:{mae}')"
   ]
  },
  {
   "attachments": {},
   "cell_type": "markdown",
   "metadata": {},
   "source": [
    "### Model Tuning"
   ]
  },
  {
   "cell_type": "code",
   "execution_count": 11,
   "metadata": {
    "execution": {
     "iopub.execute_input": "2023-03-04T05:15:39.482128Z",
     "iopub.status.busy": "2023-03-04T05:15:39.481393Z",
     "iopub.status.idle": "2023-03-04T05:15:53.374626Z",
     "shell.execute_reply": "2023-03-04T05:15:53.373450Z",
     "shell.execute_reply.started": "2023-03-04T05:15:39.482090Z"
    }
   },
   "outputs": [
    {
     "name": "stdout",
     "output_type": "stream",
     "text": [
      "ARMA(0, 0) - AIC: 83922.21\n",
      "ARMA(0, 1) - AIC: 70122.31\n",
      "ARMA(0, 2) - AIC: 68488.96\n",
      "ARMA(0, 3) - AIC: 80029.43\n",
      "ARMA(1, 0) - AIC: 69020.31\n",
      "ARMA(1, 1) - AIC: 65352.36\n",
      "ARMA(1, 2) - AIC: 67709.81\n",
      "ARMA(1, 3) - AIC: 72805.67\n",
      "ARMA(2, 0) - AIC: 60366.31\n",
      "ARMA(2, 1) - AIC: 65341.60\n",
      "ARMA(2, 2) - AIC: 67588.46\n",
      "ARMA(2, 3) - AIC: 70838.02\n",
      "ARMA(3, 0) - AIC: 56175.95\n",
      "ARMA(3, 1) - AIC: 63929.43\n",
      "ARMA(3, 2) - AIC: 67540.54\n",
      "ARMA(3, 3) - AIC: 70648.53\n",
      "Best ARMA model: ARMA(3, 0) - AIC: 56175.95\n"
     ]
    }
   ],
   "source": [
    "import itertools\n",
    "import warnings\n",
    "from statsmodels.tsa.arima.model import ARIMA\n",
    "\n",
    "warnings.filterwarnings('ignore')\n",
    "\n",
    "# parameter ranges\n",
    "p = range(0, 4)\n",
    "d = 0 #ARMA model\n",
    "q = range(0, 4)\n",
    "\n",
    "# all possible combinations of p and q\n",
    "pq = itertools.product(p, q)\n",
    "\n",
    "best_aic = float('inf') \n",
    "best_order = None\n",
    "\n",
    "for order in pq:\n",
    "    try:\n",
    "        model = ARIMA(ts, order=(*order, d))\n",
    "        results = model.fit()\n",
    "        aic = results.aic\n",
    "        if aic < best_aic:\n",
    "            best_aic = aic\n",
    "            best_order = order\n",
    "        print(f'ARMA{order} - AIC: {aic:.2f}')\n",
    "    except:\n",
    "        continue\n",
    "\n",
    "print(f'Best ARMA model: ARMA{best_order} - AIC: {best_aic:.2f}')\n"
   ]
  },
  {
   "attachments": {},
   "cell_type": "markdown",
   "metadata": {},
   "source": [
    "After grid search for ARIMA model parameters, we see that the mean absolute error decreases from 1.8 to 1.3"
   ]
  },
  {
   "cell_type": "code",
   "execution_count": 16,
   "metadata": {},
   "outputs": [
    {
     "data": {
      "text/html": [
       "<div>\n",
       "<style scoped>\n",
       "    .dataframe tbody tr th:only-of-type {\n",
       "        vertical-align: middle;\n",
       "    }\n",
       "\n",
       "    .dataframe tbody tr th {\n",
       "        vertical-align: top;\n",
       "    }\n",
       "\n",
       "    .dataframe thead th {\n",
       "        text-align: right;\n",
       "    }\n",
       "</style>\n",
       "<table border=\"1\" class=\"dataframe\">\n",
       "  <thead>\n",
       "    <tr style=\"text-align: right;\">\n",
       "      <th></th>\n",
       "      <th>p</th>\n",
       "      <th>q</th>\n",
       "      <th>d</th>\n",
       "      <th>Model Output</th>\n",
       "    </tr>\n",
       "  </thead>\n",
       "  <tbody>\n",
       "    <tr>\n",
       "      <th>Experiment 1</th>\n",
       "      <td>0.0</td>\n",
       "      <td>0.0</td>\n",
       "      <td>0.0</td>\n",
       "      <td>83922.211326</td>\n",
       "    </tr>\n",
       "    <tr>\n",
       "      <th>Experiment 2</th>\n",
       "      <td>0.0</td>\n",
       "      <td>1.0</td>\n",
       "      <td>0.0</td>\n",
       "      <td>70122.312617</td>\n",
       "    </tr>\n",
       "    <tr>\n",
       "      <th>Experiment 3</th>\n",
       "      <td>0.0</td>\n",
       "      <td>2.0</td>\n",
       "      <td>0.0</td>\n",
       "      <td>68488.958225</td>\n",
       "    </tr>\n",
       "    <tr>\n",
       "      <th>Experiment 4</th>\n",
       "      <td>0.0</td>\n",
       "      <td>3.0</td>\n",
       "      <td>0.0</td>\n",
       "      <td>80029.430986</td>\n",
       "    </tr>\n",
       "    <tr>\n",
       "      <th>Experiment 5</th>\n",
       "      <td>1.0</td>\n",
       "      <td>0.0</td>\n",
       "      <td>0.0</td>\n",
       "      <td>69020.311757</td>\n",
       "    </tr>\n",
       "    <tr>\n",
       "      <th>Experiment 6</th>\n",
       "      <td>1.0</td>\n",
       "      <td>1.0</td>\n",
       "      <td>0.0</td>\n",
       "      <td>65352.363434</td>\n",
       "    </tr>\n",
       "    <tr>\n",
       "      <th>Experiment 7</th>\n",
       "      <td>1.0</td>\n",
       "      <td>2.0</td>\n",
       "      <td>0.0</td>\n",
       "      <td>67709.805631</td>\n",
       "    </tr>\n",
       "    <tr>\n",
       "      <th>Experiment 8</th>\n",
       "      <td>1.0</td>\n",
       "      <td>3.0</td>\n",
       "      <td>0.0</td>\n",
       "      <td>72805.668405</td>\n",
       "    </tr>\n",
       "    <tr>\n",
       "      <th>Experiment 9</th>\n",
       "      <td>2.0</td>\n",
       "      <td>0.0</td>\n",
       "      <td>0.0</td>\n",
       "      <td>60366.309103</td>\n",
       "    </tr>\n",
       "    <tr>\n",
       "      <th>Experiment 10</th>\n",
       "      <td>2.0</td>\n",
       "      <td>1.0</td>\n",
       "      <td>0.0</td>\n",
       "      <td>65341.596543</td>\n",
       "    </tr>\n",
       "    <tr>\n",
       "      <th>Experiment 11</th>\n",
       "      <td>2.0</td>\n",
       "      <td>2.0</td>\n",
       "      <td>0.0</td>\n",
       "      <td>67588.460527</td>\n",
       "    </tr>\n",
       "    <tr>\n",
       "      <th>Experiment 12</th>\n",
       "      <td>2.0</td>\n",
       "      <td>3.0</td>\n",
       "      <td>0.0</td>\n",
       "      <td>70838.016219</td>\n",
       "    </tr>\n",
       "    <tr>\n",
       "      <th>Experiment 13</th>\n",
       "      <td>3.0</td>\n",
       "      <td>0.0</td>\n",
       "      <td>0.0</td>\n",
       "      <td>56175.945589</td>\n",
       "    </tr>\n",
       "    <tr>\n",
       "      <th>Experiment 14</th>\n",
       "      <td>3.0</td>\n",
       "      <td>1.0</td>\n",
       "      <td>0.0</td>\n",
       "      <td>63929.432753</td>\n",
       "    </tr>\n",
       "    <tr>\n",
       "      <th>Experiment 15</th>\n",
       "      <td>3.0</td>\n",
       "      <td>2.0</td>\n",
       "      <td>0.0</td>\n",
       "      <td>67540.541113</td>\n",
       "    </tr>\n",
       "    <tr>\n",
       "      <th>Experiment 16</th>\n",
       "      <td>3.0</td>\n",
       "      <td>3.0</td>\n",
       "      <td>0.0</td>\n",
       "      <td>70648.528544</td>\n",
       "    </tr>\n",
       "  </tbody>\n",
       "</table>\n",
       "</div>"
      ],
      "text/plain": [
       "                 p    q    d  Model Output\n",
       "Experiment 1   0.0  0.0  0.0  83922.211326\n",
       "Experiment 2   0.0  1.0  0.0  70122.312617\n",
       "Experiment 3   0.0  2.0  0.0  68488.958225\n",
       "Experiment 4   0.0  3.0  0.0  80029.430986\n",
       "Experiment 5   1.0  0.0  0.0  69020.311757\n",
       "Experiment 6   1.0  1.0  0.0  65352.363434\n",
       "Experiment 7   1.0  2.0  0.0  67709.805631\n",
       "Experiment 8   1.0  3.0  0.0  72805.668405\n",
       "Experiment 9   2.0  0.0  0.0  60366.309103\n",
       "Experiment 10  2.0  1.0  0.0  65341.596543\n",
       "Experiment 11  2.0  2.0  0.0  67588.460527\n",
       "Experiment 12  2.0  3.0  0.0  70838.016219\n",
       "Experiment 13  3.0  0.0  0.0  56175.945589\n",
       "Experiment 14  3.0  1.0  0.0  63929.432753\n",
       "Experiment 15  3.0  2.0  0.0  67540.541113\n",
       "Experiment 16  3.0  3.0  0.0  70648.528544"
      ]
     },
     "execution_count": 16,
     "metadata": {},
     "output_type": "execute_result"
    }
   ],
   "source": [
    "# EXPERIMENT MANAGER VERSION\n",
    "\n",
    "import warnings\n",
    "from statsmodels.tsa.arima.model import ARIMA\n",
    "\n",
    "import sys\n",
    "sys.path.append('../decorators')\n",
    "from expt_mgr import experiment_entry\n",
    "\n",
    "warnings.filterwarnings('ignore')\n",
    "\n",
    "# parameter ranges\n",
    "p = range(0, 4)\n",
    "d = [0] # ARMA model\n",
    "q = range(0, 4)\n",
    "\n",
    "@experiment_entry(p=p, q=q, d=d)\n",
    "def search_model_params(p, q, d):\n",
    "    try:\n",
    "        model = ARIMA(ts, order=(p, q, d))\n",
    "        results = model.fit()\n",
    "        aic = results.aic\n",
    "        return aic\n",
    "    except:\n",
    "        print(\"exception\")\n",
    "\n",
    "search_model_params()"
   ]
  },
  {
   "cell_type": "code",
   "execution_count": 12,
   "metadata": {
    "execution": {
     "iopub.execute_input": "2023-03-04T05:15:53.377077Z",
     "iopub.status.busy": "2023-03-04T05:15:53.376393Z",
     "iopub.status.idle": "2023-03-04T05:15:55.835730Z",
     "shell.execute_reply": "2023-03-04T05:15:55.834131Z",
     "shell.execute_reply.started": "2023-03-04T05:15:53.377035Z"
    }
   },
   "outputs": [],
   "source": [
    "newmodel = ARIMA(ts, order =(3,0,0)) \n",
    "#order: (p,d,q) = autoregressive (p), differencing (d), moving average (q) \n",
    "\n",
    "results = newmodel.fit()\n",
    "predictions = results.predict(start = '01/01/1990',end = '01/01/1991')"
   ]
  },
  {
   "cell_type": "code",
   "execution_count": 13,
   "metadata": {
    "execution": {
     "iopub.execute_input": "2023-03-04T05:15:55.846504Z",
     "iopub.status.busy": "2023-03-04T05:15:55.845749Z",
     "iopub.status.idle": "2023-03-04T05:15:55.864609Z",
     "shell.execute_reply": "2023-03-04T05:15:55.862105Z",
     "shell.execute_reply.started": "2023-03-04T05:15:55.846448Z"
    }
   },
   "outputs": [
    {
     "name": "stdout",
     "output_type": "stream",
     "text": [
      "MAE:1.5643548323756054\n"
     ]
    }
   ],
   "source": [
    "predictions = results.predict(start = '01/01/1990',end = '01/01/1991')\n",
    "mae = mean_absolute_error(actuals[0:13],predictions)\n",
    "print(f'MAE:{mae}')"
   ]
  },
  {
   "attachments": {},
   "cell_type": "markdown",
   "metadata": {},
   "source": [
    "> Thank you for reading my notebook! I hope you found it helpful in some way.\n",
    "> \n",
    "> If you did, please consider upvoting it. If you have any suggestions or improvements, please leave a comment and let me know. Your feedback is greatly appreciated!"
   ]
  }
 ],
 "metadata": {
  "kernelspec": {
   "display_name": "Python 3 (ipykernel)",
   "language": "python",
   "name": "python3"
  },
  "language_info": {
   "codemirror_mode": {
    "name": "ipython",
    "version": 3
   },
   "file_extension": ".py",
   "mimetype": "text/x-python",
   "name": "python",
   "nbconvert_exporter": "python",
   "pygments_lexer": "ipython3",
   "version": "3.9.12"
  }
 },
 "nbformat": 4,
 "nbformat_minor": 4
}
